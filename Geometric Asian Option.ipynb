{
 "cells": [
  {
   "cell_type": "code",
   "execution_count": 1,
   "metadata": {
    "collapsed": true
   },
   "outputs": [],
   "source": [
    "import numpy as np\n",
    "import pandas as pd\n",
    "import cython\n",
    "import math as m\n",
    "from scipy.stats import norm, gmean\n",
    "%load_ext Cython"
   ]
  },
  {
   "cell_type": "code",
   "execution_count": 2,
   "metadata": {
    "collapsed": true
   },
   "outputs": [],
   "source": [
    "def Geometric_Asian_Option_price(S0,sigma,K,r,T,Nt,flag):\n",
    "    ###########################################################################\n",
    "    #This is a closed form solution for geometric Asian options\n",
    "    #\n",
    "    #S0 = Current price of underlying asset\n",
    "    #sigma = Volatility\n",
    "    #K = Strike price\n",
    "    #r = Risk-free rate\n",
    "    #T = Time to maturity\n",
    "    #Nt = Time intervals\n",
    "    ###########################################################################\n",
    "    adj_sigma=sigma*m.sqrt((2*Nt+1)/(6*(Nt+1)))\n",
    "    rho=0.5*(r-(sigma**2)*0.5+adj_sigma**2)\n",
    "    d1 = (m.log(S0/K)+(rho+0.5*adj_sigma**2)*T)/(adj_sigma*m.sqrt(T))\n",
    "    d2 = (m.log(S0/K)+(rho-0.5*adj_sigma**2)*T)/(adj_sigma*m.sqrt(T))\n",
    "    if (flag==\"Call\"):\n",
    "        price = m.exp(-r*T)*(S0*m.exp(rho*T)*norm.cdf(d1)-K*norm.cdf(d2)) # Important to note that BSM has CDF\n",
    "    elif (flag ==\"Put\"):\n",
    "        price = m.exp(-r*T)*(K*norm.cdf(-d2)-S0*m.exp(rho*T)*norm.cdf(-d1))\n",
    "    return(price)"
   ]
  },
  {
   "cell_type": "code",
   "execution_count": 3,
   "metadata": {
    "scrolled": true
   },
   "outputs": [
    {
     "data": {
      "text/plain": [
       "6.7505109558164493"
      ]
     },
     "execution_count": 3,
     "metadata": {},
     "output_type": "execute_result"
    }
   ],
   "source": [
    "S0=100\n",
    "sigma=0.2\n",
    "K=100\n",
    "r=0.03\n",
    "T=5\n",
    "Nt=T*252 #number of trading days until maturity\n",
    "\n",
    "Geometric_Asian_Option_price(S0,sigma,K,r,T,Nt,flag=\"Put\")"
   ]
  },
  {
   "cell_type": "code",
   "execution_count": 4,
   "metadata": {},
   "outputs": [
    {
     "data": {
      "text/plain": [
       "11.919430915155033"
      ]
     },
     "execution_count": 4,
     "metadata": {},
     "output_type": "execute_result"
    }
   ],
   "source": [
    "Geometric_Asian_Option_price(S0,sigma,K,r,T,Nt,flag=\"Call\")"
   ]
  },
  {
   "cell_type": "code",
   "execution_count": 5,
   "metadata": {},
   "outputs": [
    {
     "name": "stdout",
     "output_type": "stream",
     "text": [
      "The cythonized execution takes 125.68697333335876 seconds \n"
     ]
    }
   ],
   "source": [
    "%%cython\n",
    "import time\n",
    "start_time = time.time()\n",
    "cdef extern from \"math.h\":\n",
    "    double sqrt(double x)\n",
    "    double exp(double x)\n",
    "import numpy as np\n",
    "cimport numpy as np\n",
    "# cimport math as m\n",
    "cdef double S0\n",
    "cdef double r\n",
    "cdef double sigma\n",
    "cdef int steps\n",
    "cdef int T\n",
    "np.random.seed(1)\n",
    "cpdef sim_stocks(S0, r,sigma,steps =252,T=5):\n",
    "    cdef int nSims = 10000\n",
    "    cdef int sim_steps = steps*T\n",
    "    cdef double dt = 1/steps\n",
    "    cdef int div = 0\n",
    "    cdef double mu = (r-div-0.5*sigma*sigma)*dt\n",
    "    sigma = sigma*sqrt(dt)\n",
    "    St = np.zeros(shape=(sim_steps,nSims))\n",
    "    St[0,] = S0\n",
    "    for i in range(1,sim_steps):\n",
    "            for j in range(0,nSims):\n",
    "                e = np.random.randn(1)\n",
    "                St[i,j] = St[i-1,j]*exp(mu+sigma*e)\n",
    "    return(St)\n",
    "\n",
    "sim_stocks = sim_stocks(100,0.03,sigma=0.3,steps = 252,T=5)\n",
    "print(\"The cythonized execution takes {0} seconds \".format(time.time() - start_time))"
   ]
  },
  {
   "cell_type": "code",
   "execution_count": 6,
   "metadata": {},
   "outputs": [
    {
     "data": {
      "text/plain": [
       "15.305407759417266"
      ]
     },
     "execution_count": 6,
     "metadata": {},
     "output_type": "execute_result"
    }
   ],
   "source": [
    "# In our analysis we are only focusing on geometric call option\n",
    "sim_stocks = pd.DataFrame(sim_stocks)\n",
    "prices = []\n",
    "X = []\n",
    "steps=252\n",
    "sim_steps = steps*5\n",
    "for i in range(0,sim_steps):\n",
    "    prices.append(gmean(sim_stocks [i])) # Taking the geometric mean\n",
    "    X.append(max(prices[i]-K,0)*m.exp(-r*T))\n",
    "geometric_opt_price  = np.mean(X)\n",
    "geometric_opt_price"
   ]
  },
  {
   "cell_type": "code",
   "execution_count": 7,
   "metadata": {},
   "outputs": [
    {
     "data": {
      "text/plain": [
       "17.726172152386773"
      ]
     },
     "execution_count": 7,
     "metadata": {},
     "output_type": "execute_result"
    }
   ],
   "source": [
    "prices = []\n",
    "Y = []\n",
    "steps=252\n",
    "sim_steps = steps*5\n",
    "for i in range(0,sim_steps):\n",
    "    prices.append(np.mean(sim_stocks [i])) # Taking the arithmetic mean\n",
    "    Y.append(max(prices[i]-K,0)*m.exp(-r*T))\n",
    "arithmetic_opt_price  = np.mean(Y)\n",
    "arithmetic_opt_price"
   ]
  },
  {
   "cell_type": "code",
   "execution_count": 8,
   "metadata": {},
   "outputs": [
    {
     "data": {
      "text/plain": [
       "1.1503647088468885"
      ]
     },
     "execution_count": 8,
     "metadata": {},
     "output_type": "execute_result"
    }
   ],
   "source": [
    "numerator = []\n",
    "denominator = []\n",
    "for i in range(1,sim_steps):\n",
    "    numerator.append((Y[i]-arithmetic_opt_price)* (X[i]-geometric_opt_price))\n",
    "    denominator.append((X[i]-geometric_opt_price)**2)\n",
    "\n",
    "B = sum(numerator)/sum(denominator)\n",
    "B"
   ]
  },
  {
   "cell_type": "code",
   "execution_count": 9,
   "metadata": {},
   "outputs": [
    {
     "data": {
      "text/plain": [
       "3.3859768442622329"
      ]
     },
     "execution_count": 9,
     "metadata": {},
     "output_type": "execute_result"
    }
   ],
   "source": [
    "Pgsim = geometric_opt_price\n",
    "Pg = Geometric_Asian_Option_price(S0,sigma,K,r,T,Nt,flag=\"Call\")\n",
    "Error = Pgsim - Pg \n",
    "Error"
   ]
  },
  {
   "cell_type": "code",
   "execution_count": 10,
   "metadata": {},
   "outputs": [
    {
     "data": {
      "text/plain": [
       "13.831063885774743"
      ]
     },
     "execution_count": 10,
     "metadata": {},
     "output_type": "execute_result"
    }
   ],
   "source": [
    "Pasim = arithmetic_opt_price\n",
    "Pa = Pasim - B*Error\n",
    "# The modified arithmetic option price\n",
    "Pa"
   ]
  },
  {
   "cell_type": "code",
   "execution_count": 11,
   "metadata": {},
   "outputs": [
    {
     "data": {
      "text/plain": [
       "3.8951082666120307"
      ]
     },
     "execution_count": 11,
     "metadata": {},
     "output_type": "execute_result"
    }
   ],
   "source": [
    "Pasim-Pa"
   ]
  }
 ],
 "metadata": {
  "kernelspec": {
   "display_name": "Python 3",
   "language": "python",
   "name": "python3"
  },
  "language_info": {
   "codemirror_mode": {
    "name": "ipython",
    "version": 3
   },
   "file_extension": ".py",
   "mimetype": "text/x-python",
   "name": "python",
   "nbconvert_exporter": "python",
   "pygments_lexer": "ipython3",
   "version": "3.6.2"
  }
 },
 "nbformat": 4,
 "nbformat_minor": 2
}
